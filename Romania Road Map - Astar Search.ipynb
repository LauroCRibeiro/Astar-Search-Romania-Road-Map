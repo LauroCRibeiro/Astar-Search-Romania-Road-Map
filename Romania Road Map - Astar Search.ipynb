{
 "cells": [
  {
   "cell_type": "markdown",
   "metadata": {},
   "source": [
    "# Romania Road Map A* Search "
   ]
  },
  {
   "cell_type": "code",
   "execution_count": 7,
   "metadata": {},
   "outputs": [
    {
     "data": {
      "text/html": [
       "<img src=\"https://d3i71xaburhd42.cloudfront.net/437af7588c6a36fd55c410b7f92b7f47ef57653b/5-Figure3.2-1.png\"/>"
      ],
      "text/plain": [
       "<IPython.core.display.Image object>"
      ]
     },
     "execution_count": 7,
     "metadata": {},
     "output_type": "execute_result"
    }
   ],
   "source": [
    "from IPython.display import Image\n",
    "Image(url='https://d3i71xaburhd42.cloudfront.net/437af7588c6a36fd55c410b7f92b7f47ef57653b/5-Figure3.2-1.png') "
   ]
  },
  {
   "cell_type": "markdown",
   "metadata": {},
   "source": [
    "### Initialize the class that represent a graph"
   ]
  },
  {
   "cell_type": "code",
   "execution_count": 30,
   "metadata": {},
   "outputs": [],
   "source": [
    "class Graph:\n",
    "    \n",
    "    # Initialize the class\n",
    "    def __init__(self, graph_dict=None, directed=True):\n",
    "        self.graph_dict = graph_dict or {}\n",
    "        self.directed = directed\n",
    "        if not directed:\n",
    "            self.make_undirected()\n",
    "            \n",
    "    # Create an undirected graph by adding symmetric edges\n",
    "    def make_undirected(self):\n",
    "        for a in list(self.graph_dict.keys()):\n",
    "            for (b, dist) in self.graph_dict[a].items():\n",
    "                self.graph_dict.setdefault(b, {})[a] = dist\n",
    "                \n",
    "    # Add a link from A and B of given distance, and also add the inverse link if the graph is undirected\n",
    "    def connect(self, A, B, distance=1):\n",
    "        self.graph_dict.setdefault(A, {})[B] = distance\n",
    "        if not self.directed:\n",
    "            self.graph_dict.setdefault(B, {})[A] = distance\n",
    "            \n",
    "    # Get neighbors or a neighbor\n",
    "    def get(self, a, b=None):\n",
    "        links = self.graph_dict.setdefault(a, {})\n",
    "        if b is None:\n",
    "            return links\n",
    "        else:\n",
    "            return links.get(b)\n",
    "        \n",
    "    # Return a list of nodes in the graph\n",
    "    def nodes(self):\n",
    "        s1 = set([k for k in self.graph_dict.keys()])\n",
    "        s2 = set([k2 for v in self.graph_dict.values() for k2, v2 in v.items()])\n",
    "        nodes = s1.union(s2)\n",
    "        return list(nodes)\n"
   ]
  },
  {
   "cell_type": "markdown",
   "metadata": {},
   "source": [
    "#### Initialize the class that represents a node"
   ]
  },
  {
   "cell_type": "code",
   "execution_count": 31,
   "metadata": {},
   "outputs": [],
   "source": [
    "class Node:\n",
    "    \n",
    "    # Initialize the class\n",
    "    def __init__(self, name:str, parent:str):\n",
    "        self.name = name\n",
    "        self.parent = parent\n",
    "        self.g = 0 # Distance to start node\n",
    "        self.h = 0 # Distance to goal node\n",
    "        self.f = 0 # Total cost\n",
    "    \n",
    "    # Compare nodes\n",
    "    def __eq__(self, other):\n",
    "        return self.name == other.name\n",
    "    \n",
    "    # Sort nodes\n",
    "    def __lt__(self, other):\n",
    "         return self.f < other.f\n",
    "    \n",
    "    # Print node\n",
    "    def __repr__(self):\n",
    "        return ('({0},{1})'.format(self.name, self.f))"
   ]
  },
  {
   "cell_type": "markdown",
   "metadata": {},
   "source": [
    "#### A * Search Code Implementation"
   ]
  },
  {
   "cell_type": "code",
   "execution_count": 32,
   "metadata": {},
   "outputs": [],
   "source": [
    "def astar_search(graph, heuristics, start, end):\n",
    "    \n",
    "    # Create lists for open nodes and closed nodes\n",
    "    open = []\n",
    "    closed = []\n",
    "    \n",
    "    # Create a start node and an goal node\n",
    "    start_node = Node(start, None)\n",
    "    goal_node = Node(end, None)\n",
    "    \n",
    "    # Add the start node\n",
    "    open.append(start_node)\n",
    "    \n",
    "    # Loop until the open list is empty\n",
    "    while len(open) > 0:\n",
    "        \n",
    "        # Sort the open list to get the node with the lowest cost first\n",
    "        open.sort()\n",
    "        \n",
    "        # Get the node with the lowest cost\n",
    "        current_node = open.pop(0)\n",
    "        \n",
    "        # Add the current node to the closed list\n",
    "        closed.append(current_node)\n",
    "        \n",
    "        # Check if we have reached the goal, return the path\n",
    "        if current_node == goal_node:\n",
    "            path = []\n",
    "            while current_node != start_node:\n",
    "                path.append(current_node.name + ': ' + str(current_node.g))\n",
    "                current_node = current_node.parent\n",
    "            path.append(start_node.name + ': ' + str(start_node.g))\n",
    "            \n",
    "            # Return reversed path\n",
    "            return path[::-1]\n",
    "        \n",
    "        # Get neighbours\n",
    "        neighbors = graph.get(current_node.name)\n",
    "        \n",
    "        # Loop neighbors\n",
    "        for key, value in neighbors.items():\n",
    "            \n",
    "            # Create a neighbor node\n",
    "            neighbor = Node(key, current_node)\n",
    "            \n",
    "            # Check if the neighbor is in the closed list\n",
    "            if(neighbor in closed):\n",
    "                continue\n",
    "                \n",
    "            # Calculate full path cost\n",
    "            neighbor.g = current_node.g + graph.get(current_node.name, neighbor.name)\n",
    "            neighbor.h = heuristics.get(neighbor.name)\n",
    "            neighbor.f = neighbor.g + neighbor.h\n",
    "            \n",
    "            # Check if neighbor is in open list and if it has a lower f value\n",
    "            if(add_to_open(open, neighbor) == True):\n",
    "                \n",
    "                # Everything is green, add neighbor to open list\n",
    "                open.append(neighbor)\n",
    "                \n",
    "    # Return None, no path is found\n",
    "    return None\n"
   ]
  },
  {
   "cell_type": "markdown",
   "metadata": {},
   "source": [
    "#### Check if a neighbor should be added to open list"
   ]
  },
  {
   "cell_type": "code",
   "execution_count": 33,
   "metadata": {},
   "outputs": [],
   "source": [
    "def add_to_open(open, neighbor):\n",
    "    for node in open:\n",
    "        if (neighbor == node and neighbor.f > node.f):\n",
    "            return False\n",
    "    return True"
   ]
  },
  {
   "cell_type": "markdown",
   "metadata": {},
   "source": [
    "#### Create a graph as the main entry for this module"
   ]
  },
  {
   "cell_type": "code",
   "execution_count": 45,
   "metadata": {},
   "outputs": [],
   "source": [
    "def main():\n",
    "    \n",
    "    # Create a graph\n",
    "    graph = Graph()\n",
    "    \n",
    "    # Create graph connections (Actual distance)\n",
    "    graph.connect('Arad', 'Zerind', 75)\n",
    "    graph.connect('Arad', 'Timisoara', 118)\n",
    "    graph.connect('Arad', 'Sibiu', 140)\n",
    "    graph.connect('Zerind', 'Oradea', 71)\n",
    "    graph.connect('Timisoara', 'Lugoj', 111)\n",
    "    graph.connect('Oradea', 'Sibiu', 151)\n",
    "    graph.connect('Sibiu', 'Rimnicu Vilcea', 80)\n",
    "    graph.connect('Sibiu', 'Fagaras', 99)\n",
    "    graph.connect('Lugoj', 'Mehadia', 70)\n",
    "    graph.connect('Mehadia', 'Drobeta', 75)\n",
    "    graph.connect('Drobeta', 'Craiova', 120)\n",
    "    graph.connect('Craiova', 'Rimnicu Vilcea', 146)\n",
    "    graph.connect('Craiova', 'Pitesti', 138)\n",
    "    graph.connect('Rimnicu Vilcea', 'Pitesti', 97)\n",
    "    graph.connect('Pitesti', 'Bucharest', 101)\n",
    "    graph.connect('Bucharest', 'Fagaras', 211)\n",
    "    graph.connect('Bucharest', 'Giurgiu', 90)\n",
    "    graph.connect('Bucharest', 'Urziceni', 85)\n",
    "    graph.connect('Urziceni', 'Hirsova', 98)\n",
    "    graph.connect('Urziceni', 'Vaslui', 142)\n",
    "    graph.connect('Hirsova', 'Eforie', 82)\n",
    "    graph.connect('Vaslui', 'Iasi', 92)\n",
    "    graph.connect('Iasi', 'Neamt', 87)\n",
    "    \n",
    "    # Make graph undirected, create symmetric connections\n",
    "    graph.make_undirected()\n",
    "    \n",
    "    # Create heuristics (straight-line distance)\n",
    "    heuristics = {}\n",
    "    heuristics['Zerind'] = 75\n",
    "    heuristics['Oradea'] = 146\n",
    "    heuristics['Sibiu'] = 140\n",
    "    heuristics['Fagaras'] = 230\n",
    "    heuristics['Timisoara'] = 118\n",
    "    heuristics['Lugoj'] = 229\n",
    "    heuristics['Mehadia'] = 299\n",
    "    heuristics['Drobeta'] = 374\n",
    "    heuristics['Craiova'] = 494\n",
    "    heuristics['Rimnicu Vilcea'] = 220\n",
    "    heuristics['Pitesti'] = 317\n",
    "    heuristics['Bucharest'] = 418\n",
    "    heuristics['Giurgiu'] = 508\n",
    "    heuristics['Urziceni'] = 503\n",
    "    heuristics['Hirsova'] = 601\n",
    "    heuristics['Eforie'] = 687\n",
    "    heuristics['Vaslui'] = 645\n",
    "    heuristics['Iasi'] = 737\n",
    "    heuristics['Neamt'] = 824\n",
    "    heuristics['Arad'] = 0\n",
    "    \n",
    "    # Run the search algorithm\n",
    "    path = astar_search(graph, heuristics, 'Arad', 'Vaslui')\n",
    "    print(path)\n",
    "    print()"
   ]
  },
  {
   "cell_type": "markdown",
   "metadata": {},
   "source": [
    "#### Run the Python main Method"
   ]
  },
  {
   "cell_type": "code",
   "execution_count": 46,
   "metadata": {},
   "outputs": [
    {
     "name": "stdout",
     "output_type": "stream",
     "text": [
      "['Arad: 0', 'Sibiu: 140', 'Rimnicu Vilcea: 220', 'Pitesti: 317', 'Bucharest: 418', 'Urziceni: 503', 'Vaslui: 645']\n",
      "\n"
     ]
    }
   ],
   "source": [
    "if __name__ == \"__main__\": main()"
   ]
  },
  {
   "cell_type": "code",
   "execution_count": null,
   "metadata": {},
   "outputs": [],
   "source": []
  }
 ],
 "metadata": {
  "kernelspec": {
   "display_name": "Python 3",
   "language": "python",
   "name": "python3"
  },
  "language_info": {
   "codemirror_mode": {
    "name": "ipython",
    "version": 3
   },
   "file_extension": ".py",
   "mimetype": "text/x-python",
   "name": "python",
   "nbconvert_exporter": "python",
   "pygments_lexer": "ipython3",
   "version": "3.8.3"
  }
 },
 "nbformat": 4,
 "nbformat_minor": 4
}
